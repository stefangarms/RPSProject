{
 "cells": [
  {
   "cell_type": "code",
   "execution_count": 3,
   "metadata": {},
   "outputs": [],
   "source": [
    "import cv2\n",
    "import mediapipe as mp\n",
    "import time\n",
    "import HandTrackingModule as h_mod"
   ]
  },
  {
   "cell_type": "code",
   "execution_count": 4,
   "metadata": {},
   "outputs": [
    {
     "name": "stdout",
     "output_type": "stream",
     "text": [
      "quit\n"
     ]
    }
   ],
   "source": [
    "# initialize previous  and current time\n",
    "pTime = 0\n",
    "cTime = 0\n",
    "cap = cv2.VideoCapture(1)\n",
    "\n",
    "detector = h_mod.handDetector()\n",
    "\n",
    "while True:\n",
    "    success, img = cap.read()\n",
    "\n",
    "    img = detector.findHands(img)\n",
    "\n",
    "    # getting Landmark List from function\n",
    "    lmList = detector.findPosition(img, draw=False)\n",
    "    # if len(lmList) != 0:\n",
    "    #     print(lmList[4])\n",
    "\n",
    "    # show FPS Numbers\n",
    "    cTime = time.time()\n",
    "    fps = 1/(cTime-pTime)\n",
    "    pTime = cTime\n",
    "    img = cv2.flip(img, 1)\n",
    "    cv2.putText(img, str(int(fps)), (10,70), cv2.FONT_HERSHEY_PLAIN,3,(255,0,0),3)\n",
    "    \n",
    "    \n",
    "    cv2.imshow(\"Image\", img)\n",
    "    # cv2.waitKey(1)\n",
    "    if cv2.waitKey(5) & 0xFF == 27:\n",
    "        cv2.destroyAllWindows()\n",
    "        print(\"quit\")\n",
    "        break"
   ]
  }
 ],
 "metadata": {
  "kernelspec": {
   "display_name": "Python 3.10.8 ('RPSProject': venv)",
   "language": "python",
   "name": "python3"
  },
  "language_info": {
   "codemirror_mode": {
    "name": "ipython",
    "version": 3
   },
   "file_extension": ".py",
   "mimetype": "text/x-python",
   "name": "python",
   "nbconvert_exporter": "python",
   "pygments_lexer": "ipython3",
   "version": "3.10.8"
  },
  "orig_nbformat": 4,
  "vscode": {
   "interpreter": {
    "hash": "2ab340ae99d2fdbffec185ee86bc0a1ae744d6829ef4f8f4f899de7a5704c73e"
   }
  }
 },
 "nbformat": 4,
 "nbformat_minor": 2
}
