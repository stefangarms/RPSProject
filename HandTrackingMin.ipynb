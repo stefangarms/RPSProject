{
 "cells": [
  {
   "cell_type": "code",
   "execution_count": 284,
   "metadata": {},
   "outputs": [],
   "source": [
    "import cv2\n",
    "import mediapipe as mp\n",
    "import time"
   ]
  },
  {
   "cell_type": "code",
   "execution_count": 285,
   "metadata": {},
   "outputs": [],
   "source": [
    "cap = cv2. VideoCapture(1)\n",
    "\n",
    "# Get the location of the Point Numbers of the Hand (initiate)\n",
    "mpHands = mp.solutions.hands\n",
    "hands = mpHands.Hands()\n",
    "# draw lines between hands (initiate)\n",
    "mpDraw = mp.solutions.drawing_utils\n",
    "# initialize previous  and current time\n",
    "pTime = 0\n",
    "cTime = 0\n"
   ]
  },
  {
   "cell_type": "code",
   "execution_count": 286,
   "metadata": {},
   "outputs": [
    {
     "ename": "KeyboardInterrupt",
     "evalue": "",
     "output_type": "error",
     "traceback": [
      "\u001b[0;31m---------------------------------------------------------------------------\u001b[0m",
      "\u001b[0;31mKeyboardInterrupt\u001b[0m                         Traceback (most recent call last)",
      "Cell \u001b[0;32mIn [286], line 2\u001b[0m\n\u001b[1;32m      1\u001b[0m \u001b[39mwhile\u001b[39;00m \u001b[39mTrue\u001b[39;00m:\n\u001b[0;32m----> 2\u001b[0m     success, img \u001b[39m=\u001b[39m cap\u001b[39m.\u001b[39;49mread()\n\u001b[1;32m      4\u001b[0m     \u001b[39m# send in rbg image to object (convert to RGB img)\u001b[39;00m\n\u001b[1;32m      5\u001b[0m     imgRGB \u001b[39m=\u001b[39m cv2\u001b[39m.\u001b[39mcvtColor(img, cv2\u001b[39m.\u001b[39mCOLOR_BGR2RGB)\n",
      "\u001b[0;31mKeyboardInterrupt\u001b[0m: "
     ]
    }
   ],
   "source": [
    "while True:\n",
    "    success, img = cap.read()\n",
    "\n",
    "    # send in rbg image to object (convert to RGB img)\n",
    "    imgRGB = cv2.cvtColor(img, cv2.COLOR_BGR2RGB)\n",
    "    # process frame --> result\n",
    "    results = hands.process(imgRGB)\n",
    "    # extract information out of object (check for identified hands and eliminate multiple detected hands)\n",
    "    #print(results.multi_hand_landmarks)\n",
    "\n",
    "    if results.multi_hand_landmarks:\n",
    "        for handLms in results.multi_hand_landmarks:\n",
    "            # identifying landmarks on hand and transform it to pixel coordinates + mark them\n",
    "            for id, lm in enumerate(handLms.landmark):\n",
    "                # print(id, lm)\n",
    "                h, w, c = img.shape\n",
    "                cx, cy = int(lm.x * w), int(lm.y * h)\n",
    "                # print(id, cx, cy)\n",
    "\n",
    "                # identify a special landmark and mark it with a circle\n",
    "                if id == 0:\n",
    "                    cv2.circle(img, (cx, cy), 10, (255,0,255), cv2.FILLED)\n",
    "\n",
    "            # draw lines and points on original image\n",
    "            mpDraw.draw_landmarks(img, handLms, mpHands.HAND_CONNECTIONS)\n",
    "\n",
    "    # show FPS Numbers\n",
    "    cTime = time.time()\n",
    "    fps = 1/(cTime-pTime)\n",
    "    pTime = cTime\n",
    "    img = cv2.flip(img, 1)\n",
    "    cv2.putText(img, str(int(fps)), (10,70), cv2.FONT_HERSHEY_PLAIN,3,(255,0,0),3)\n",
    "     \n",
    "    \n",
    "    cv2.imshow(\"Image\", img)\n",
    "    # cv2.imshow(\"Image\",cv2.flip(img, 1))\n",
    "    # if \n",
    "    cv2.waitKey(1) \n",
    "    # & 0xFF == 27:\n",
    "    #     print(\"quit\")\n",
    "    \n",
    "    #     break"
   ]
  }
 ],
 "metadata": {
  "kernelspec": {
   "display_name": "Python 3.10.8 ('RPSProject': venv)",
   "language": "python",
   "name": "python3"
  },
  "language_info": {
   "codemirror_mode": {
    "name": "ipython",
    "version": 3
   },
   "file_extension": ".py",
   "mimetype": "text/x-python",
   "name": "python",
   "nbconvert_exporter": "python",
   "pygments_lexer": "ipython3",
   "version": "3.10.8"
  },
  "orig_nbformat": 4,
  "vscode": {
   "interpreter": {
    "hash": "2ab340ae99d2fdbffec185ee86bc0a1ae744d6829ef4f8f4f899de7a5704c73e"
   }
  }
 },
 "nbformat": 4,
 "nbformat_minor": 2
}
